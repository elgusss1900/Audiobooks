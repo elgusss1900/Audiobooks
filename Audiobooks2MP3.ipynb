{
  "nbformat": 4,
  "nbformat_minor": 0,
  "metadata": {
    "colab": {
      "provenance": [],
      "authorship_tag": "ABX9TyO2rFmsIpZktloXuKr9I9Z3",
      "include_colab_link": true
    },
    "kernelspec": {
      "name": "python3",
      "display_name": "Python 3"
    },
    "language_info": {
      "name": "python"
    }
  },
  "cells": [
    {
      "cell_type": "markdown",
      "metadata": {
        "id": "view-in-github",
        "colab_type": "text"
      },
      "source": [
        "<a href=\"https://colab.research.google.com/github/elgusss1900/Audiobooks/blob/main/Audiobooks2MP3.ipynb\" target=\"_parent\"><img src=\"https://colab.research.google.com/assets/colab-badge.svg\" alt=\"Open In Colab\"/></a>"
      ]
    },
    {
      "cell_type": "code",
      "execution_count": 28,
      "metadata": {
        "colab": {
          "base_uri": "https://localhost:8080/"
        },
        "id": "TSg6i8nS73jh",
        "outputId": "165ddc94-e414-4a53-86a4-4ff8d57ec600"
      },
      "outputs": [
        {
          "output_type": "stream",
          "name": "stdout",
          "text": [
            "Requirement already satisfied: PyPDF2 in /usr/local/lib/python3.10/dist-packages (3.0.1)\n",
            "Requirement already satisfied: PyPDF2 in /usr/local/lib/python3.10/dist-packages (3.0.1)\n",
            "Requirement already satisfied: gtts in /usr/local/lib/python3.10/dist-packages (2.5.3)\n",
            "Requirement already satisfied: requests<3,>=2.27 in /usr/local/lib/python3.10/dist-packages (from gtts) (2.32.3)\n",
            "Requirement already satisfied: click<8.2,>=7.1 in /usr/local/lib/python3.10/dist-packages (from gtts) (8.1.7)\n",
            "Requirement already satisfied: charset-normalizer<4,>=2 in /usr/local/lib/python3.10/dist-packages (from requests<3,>=2.27->gtts) (3.4.0)\n",
            "Requirement already satisfied: idna<4,>=2.5 in /usr/local/lib/python3.10/dist-packages (from requests<3,>=2.27->gtts) (3.10)\n",
            "Requirement already satisfied: urllib3<3,>=1.21.1 in /usr/local/lib/python3.10/dist-packages (from requests<3,>=2.27->gtts) (2.2.3)\n",
            "Requirement already satisfied: certifi>=2017.4.17 in /usr/local/lib/python3.10/dist-packages (from requests<3,>=2.27->gtts) (2024.8.30)\n"
          ]
        }
      ],
      "source": [
        "!pip install PyPDF2\n",
        "import PyPDF2\n",
        "!pip install PyPDF2 gtts\n",
        "\n",
        "import PyPDF2\n",
        "from gtts import gTTS\n",
        "import os\n",
        "\n",
        "def pdf_to_audio(pdf_file, audio_file):\n",
        "    # Abre el archivo PDF y extrae el texto\n",
        "    with open(pdf_file, 'rb') as file:\n",
        "        reader = PyPDF2.PdfFileReader(file)\n",
        "        text = \"\"\n",
        "\n",
        "        # Extrae el texto de cada página\n",
        "        for page_num in range(reader.numPages):\n",
        "            page = reader.getPage(page_num)\n",
        "            text += page.extract_text()\n",
        "\n",
        "    # Convierte el texto extraído en audio\n",
        "    tts = gTTS(text, lang='en')\n",
        "    tts.save(audio_file)\n",
        "    print(f\"Audio file saved as: {audio_file}\")\n",
        "    pdf_to_audio(file = '/path/to/your/document.pdf')\n"
      ]
    },
    {
      "cell_type": "code",
      "source": [
        "'/ruta/correcta/Bill Gates.pdf'\n",
        "\n"
      ],
      "metadata": {
        "colab": {
          "base_uri": "https://localhost:8080/",
          "height": 35
        },
        "id": "ZD6TkwZPAum9",
        "outputId": "444c368e-a16e-4a68-e862-c4a95717c9fd"
      },
      "execution_count": 29,
      "outputs": [
        {
          "output_type": "execute_result",
          "data": {
            "text/plain": [
              "'/ruta/correcta/Bill Gates.pdf'"
            ],
            "application/vnd.google.colaboratory.intrinsic+json": {
              "type": "string"
            }
          },
          "metadata": {},
          "execution_count": 29
        }
      ]
    }
  ]
}